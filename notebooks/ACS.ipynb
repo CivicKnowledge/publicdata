{
 "cells": [
  {
   "cell_type": "code",
   "execution_count": 1,
   "metadata": {},
   "outputs": [],
   "source": [
    "import logging\n",
    "from publicdata.census.files import logger\n",
    "logging.basicConfig()\n",
    "logger.setLevel(logging.DEBUG)"
   ]
  },
  {
   "cell_type": "code",
   "execution_count": 2,
   "metadata": {},
   "outputs": [
    {
     "name": "stderr",
     "output_type": "stream",
     "text": [
      "DEBUG:publicdata.census.files:Iterate b01002 for state RI\n"
     ]
    },
    {
     "data": {
      "text/html": [
       "\n",
       "        <h1>Census Table B01002 (2016/5)</h1>\n",
       "        <p><i>Median Age By Sex, Total Population. </i>Tract in RI \n",
       "           <p>\n",
       "        <table>\n",
       "        <tr><th>#</th><th>Name</th><th>Short Description</th><th>Description</th></tr>\n",
       "        <tr><td>0</td><td>GEOID</td><td>None</td><td>GEOID</td></tr>\n",
       "<tr><td>1</td><td>STUSAB</td><td>None</td><td>STUSAB</td></tr>\n",
       "<tr><td>2</td><td>COUNTY</td><td>None</td><td>COUNTY</td></tr>\n",
       "<tr><td>3</td><td>NAME</td><td>None</td><td>NAME</td></tr>\n",
       "<tr><td>4</td><td>B01002_001</td><td>Total:</td><td>MEDIAN AGE BY SEX for Total Population% Total:</td></tr>\n",
       "<tr><td>5</td><td>B01002_001_m90</td><td>None</td><td></td></tr>\n",
       "<tr><td>6</td><td>B01002_002</td><td>Male</td><td>MEDIAN AGE BY SEX for Total Population% Male</td></tr>\n",
       "<tr><td>7</td><td>B01002_002_m90</td><td>None</td><td></td></tr>\n",
       "<tr><td>8</td><td>B01002_003</td><td>Female</td><td>MEDIAN AGE BY SEX for Total Population% Female</td></tr>\n",
       "<tr><td>9</td><td>B01002_003_m90</td><td>None</td><td></td></tr>\n",
       "\n",
       "        </table>\n",
       "        "
      ],
      "text/plain": [
       "<publicdata.census.files.generators.Table at 0x100ba52b0>"
      ]
     },
     "execution_count": 2,
     "metadata": {},
     "output_type": "execute_result"
    }
   ],
   "source": [
    "from rowgenerators import parse_app_url\n",
    "u = parse_app_url('census://2016/5/RI/140/B01002')\n",
    "u.dataframe().table"
   ]
  },
  {
   "cell_type": "code",
   "execution_count": 3,
   "metadata": {},
   "outputs": [
    {
     "name": "stdout",
     "output_type": "stream",
     "text": [
      "1046\n",
      "{'AL': {'name': 'Alabama', 'stusab': 'AL', 'number': 1}, 'AK': {'name': 'Alaska', 'stusab': 'AK', 'number': 2}, 'AZ': {'name': 'Arizona', 'stusab': 'AZ', 'number': 4}, 'AR': {'name': 'Arkansas', 'stusab': 'AR', 'number': 5}, 'CA': {'name': 'California', 'stusab': 'CA', 'number': 6}, 'CO': {'name': 'Colorado', 'stusab': 'CO', 'number': 8}, 'CT': {'name': 'Connecticut', 'stusab': 'CT', 'number': 9}, 'DE': {'name': 'Delaware', 'stusab': 'DE', 'number': 10}, 'DC': {'name': 'District of Columbia', 'stusab': 'DC', 'number': 11}, 'FL': {'name': 'Florida', 'stusab': 'FL', 'number': 12}, 'GA': {'name': 'Georgia', 'stusab': 'GA', 'number': 13}, 'HI': {'name': 'Hawaii', 'stusab': 'HI', 'number': 15}, 'ID': {'name': 'Idaho', 'stusab': 'ID', 'number': 16}, 'IL': {'name': 'Illinois', 'stusab': 'IL', 'number': 17}, 'IN': {'name': 'Indiana', 'stusab': 'IN', 'number': 18}, 'IA': {'name': 'Iowa', 'stusab': 'IA', 'number': 19}, 'KS': {'name': 'Kansas', 'stusab': 'KS', 'number': 20}, 'KY': {'name': 'Kentucky', 'stusab': 'KY', 'number': 21}, 'LA': {'name': 'Louisiana', 'stusab': 'LA', 'number': 22}, 'ME': {'name': 'Maine', 'stusab': 'ME', 'number': 23}, 'MD': {'name': 'Maryland', 'stusab': 'MD', 'number': 24}, 'MA': {'name': 'Massachusetts', 'stusab': 'MA', 'number': 25}, 'MI': {'name': 'Michigan', 'stusab': 'MI', 'number': 26}, 'MN': {'name': 'Minnesota', 'stusab': 'MN', 'number': 27}, 'MS': {'name': 'Mississippi', 'stusab': 'MS', 'number': 28}, 'MO': {'name': 'Missouri', 'stusab': 'MO', 'number': 29}, 'MT': {'name': 'Montana', 'stusab': 'MT', 'number': 30}, 'NE': {'name': 'Nebraska', 'stusab': 'NE', 'number': 31}, 'NV': {'name': 'Nevada', 'stusab': 'NV', 'number': 32}, 'NH': {'name': 'New Hampshire', 'stusab': 'NH', 'number': 33}, 'NJ': {'name': 'New Jersey', 'stusab': 'NJ', 'number': 34}, 'NM': {'name': 'New Mexico', 'stusab': 'NM', 'number': 35}, 'NY': {'name': 'New York', 'stusab': 'NY', 'number': 36}, 'NC': {'name': 'North Carolina', 'stusab': 'NC', 'number': 37}, 'ND': {'name': 'North Dakota', 'stusab': 'ND', 'number': 38}, 'OH': {'name': 'Ohio', 'stusab': 'OH', 'number': 39}, 'OK': {'name': 'Oklahoma', 'stusab': 'OK', 'number': 40}, 'OR': {'name': 'Oregon', 'stusab': 'OR', 'number': 41}, 'PA': {'name': 'Pennsylvania', 'stusab': 'PA', 'number': 42}, 'RI': {'name': 'Rhode Island', 'stusab': 'RI', 'number': 44}, 'SC': {'name': 'South Carolina', 'stusab': 'SC', 'number': 45}, 'SD': {'name': 'South Dakota', 'stusab': 'SD', 'number': 46}, 'TN': {'name': 'Tennessee', 'stusab': 'TN', 'number': 47}, 'TX': {'name': 'Texas', 'stusab': 'TX', 'number': 48}, 'UT': {'name': 'Utah', 'stusab': 'UT', 'number': 49}, 'VT': {'name': 'Vermont', 'stusab': 'VT', 'number': 50}, 'VA': {'name': 'Virginia', 'stusab': 'VA', 'number': 51}, 'WA': {'name': 'Washington', 'stusab': 'WA', 'number': 53}, 'WV': {'name': 'West Virginia', 'stusab': 'WV', 'number': 54}, 'WI': {'name': 'Wisconsin', 'stusab': 'WI', 'number': 55}, 'WY': {'name': 'Wyoming', 'stusab': 'WY', 'number': 56}, 'PR': {'name': 'Puerto Rico', 'stusab': 'PR', 'number': 72}, 'US': {'name': 'United States', 'stusab': 'US', 'number': 0}}\n"
     ]
    }
   ],
   "source": [
    "from publicdata.census.files.metafiles import TableMeta\n",
    "\n",
    "tm = TableMeta(2016, 5)\n",
    "print(len(tm.tables))\n",
    "print(tm.states)\n"
   ]
  },
  {
   "cell_type": "code",
   "execution_count": null,
   "metadata": {},
   "outputs": [],
   "source": []
  }
 ],
 "metadata": {
  "kernelspec": {
   "display_name": "Python 3",
   "language": "python",
   "name": "python3"
  },
  "language_info": {
   "codemirror_mode": {
    "name": "ipython",
    "version": 3
   },
   "file_extension": ".py",
   "mimetype": "text/x-python",
   "name": "python",
   "nbconvert_exporter": "python",
   "pygments_lexer": "ipython3",
   "version": "3.6.3"
  },
  "varInspector": {
   "cols": {
    "lenName": 16,
    "lenType": 16,
    "lenVar": 40
   },
   "kernels_config": {
    "python": {
     "delete_cmd_postfix": "",
     "delete_cmd_prefix": "del ",
     "library": "var_list.py",
     "varRefreshCmd": "print(var_dic_list())"
    },
    "r": {
     "delete_cmd_postfix": ") ",
     "delete_cmd_prefix": "rm(",
     "library": "var_list.r",
     "varRefreshCmd": "cat(var_dic_list()) "
    }
   },
   "types_to_exclude": [
    "module",
    "function",
    "builtin_function_or_method",
    "instance",
    "_Feature"
   ],
   "window_display": false
  }
 },
 "nbformat": 4,
 "nbformat_minor": 1
}
